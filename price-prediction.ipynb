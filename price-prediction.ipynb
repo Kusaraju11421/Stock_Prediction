{
 "cells": [
  {
   "cell_type": "code",
   "execution_count": 2,
   "id": "2cf989cd",
   "metadata": {},
   "outputs": [],
   "source": [
    "import numpy as np\n",
    "import pandas as pd\n",
    "import matplotlib.pyplot as  plt\n",
    "import yfinance as yf"
   ]
  },
  {
   "cell_type": "code",
   "execution_count": 3,
   "id": "6621d7e7",
   "metadata": {},
   "outputs": [
    {
     "name": "stderr",
     "output_type": "stream",
     "text": [
      "C:\\Users\\kusar\\AppData\\Local\\Temp\\ipykernel_26472\\1436066502.py:4: FutureWarning: YF.download() has changed argument auto_adjust default to True\n",
      "  data = yf.download(stock,start,end)\n",
      "[*********************100%***********************]  1 of 1 completed\n"
     ]
    }
   ],
   "source": [
    "start = '2020-01-01'\n",
    "end = '2024-12-31'\n",
    "stock ='TATAMOTORS.NS'\n",
    "data = yf.download(stock,start,end)"
   ]
  },
  {
   "cell_type": "code",
   "execution_count": 4,
   "id": "d62ca886",
   "metadata": {},
   "outputs": [],
   "source": [
    "data.reset_index(inplace=True)"
   ]
  },
  {
   "cell_type": "code",
   "execution_count": 5,
   "id": "95a7a743",
   "metadata": {},
   "outputs": [
    {
     "data": {
      "application/vnd.microsoft.datawrangler.viewer.v0+json": {
       "columns": [
        {
         "name": "index",
         "rawType": "int64",
         "type": "integer"
        },
        {
         "name": "('Date', '')",
         "rawType": "datetime64[ns]",
         "type": "datetime"
        },
        {
         "name": "('Close', 'TATAMOTORS.NS')",
         "rawType": "float64",
         "type": "float"
        },
        {
         "name": "('High', 'TATAMOTORS.NS')",
         "rawType": "float64",
         "type": "float"
        },
        {
         "name": "('Low', 'TATAMOTORS.NS')",
         "rawType": "float64",
         "type": "float"
        },
        {
         "name": "('Open', 'TATAMOTORS.NS')",
         "rawType": "float64",
         "type": "float"
        },
        {
         "name": "('Volume', 'TATAMOTORS.NS')",
         "rawType": "int64",
         "type": "integer"
        }
       ],
       "ref": "514ac020-889c-43d2-a62a-43e72817f78c",
       "rows": [
        [
         "0",
         "2020-01-01 00:00:00",
         "181.7485809326172",
         "183.96562790396052",
         "180.91103887574138",
         "182.43832587219495",
         "25968357"
        ],
        [
         "1",
         "2020-01-02 00:00:00",
         "190.91238403320312",
         "191.84846755430343",
         "181.8963987497601",
         "182.29053443170363",
         "57289863"
        ],
        [
         "2",
         "2020-01-03 00:00:00",
         "188.3011932373047",
         "192.7845428096071",
         "186.47828195702147",
         "190.07481876531747",
         "47572728"
        ],
        [
         "3",
         "2020-01-06 00:00:00",
         "182.93099975585938",
         "188.20265069790983",
         "182.33979626176506",
         "188.20265069790983",
         "28621212"
        ],
        [
         "4",
         "2020-01-07 00:00:00",
         "181.99490356445312",
         "186.6260649368502",
         "179.63005968268334",
         "184.26122105508043",
         "34995035"
        ],
        [
         "5",
         "2020-01-08 00:00:00",
         "179.8764190673828",
         "181.50224754517527",
         "177.5608305950724",
         "177.5608305950724",
         "21862695"
        ],
        [
         "6",
         "2020-01-09 00:00:00",
         "189.18800354003906",
         "189.92701917886734",
         "181.5515086054802",
         "182.14272713066748",
         "40803142"
        ],
        [
         "7",
         "2020-01-10 00:00:00",
         "193.47430419921875",
         "196.085486828794",
         "187.21729898226562",
         "189.18800739260524",
         "60252338"
        ],
        [
         "8",
         "2020-01-13 00:00:00",
         "193.37576293945312",
         "194.8537942485445",
         "188.59678902593294",
         "191.89773163036176",
         "40535961"
        ],
        [
         "9",
         "2020-01-14 00:00:00",
         "192.9816131591797",
         "195.3464570666695",
         "190.7645663576664",
         "192.83380101789228",
         "29867542"
        ],
        [
         "10",
         "2020-01-15 00:00:00",
         "197.4157257080078",
         "198.74594489538913",
         "191.15872034246706",
         "192.1440745710365",
         "38485962"
        ],
        [
         "11",
         "2020-01-16 00:00:00",
         "194.65672302246094",
         "197.66205630564053",
         "194.0162337784948",
         "196.57816068373586",
         "28118140"
        ],
        [
         "12",
         "2020-01-17 00:00:00",
         "194.410400390625",
         "196.528906056047",
         "192.8338275452089",
         "194.36112967008458",
         "18204088"
        ],
        [
         "13",
         "2020-01-20 00:00:00",
         "192.14407348632812",
         "198.4996052176596",
         "191.4543285372858",
         "195.10013615534854",
         "28976013"
        ],
        [
         "14",
         "2020-01-21 00:00:00",
         "188.59678649902344",
         "193.52355746331676",
         "187.4143644746554",
         "192.6367447038687",
         "20859400"
        ],
        [
         "15",
         "2020-01-22 00:00:00",
         "182.88174438476562",
         "189.6806823079115",
         "181.551510209001",
         "189.13873449425512",
         "32952072"
        ],
        [
         "16",
         "2020-01-23 00:00:00",
         "185.64071655273438",
         "187.61142486023817",
         "181.10809646666232",
         "184.0148882131682",
         "33032086"
        ],
        [
         "17",
         "2020-01-24 00:00:00",
         "183.7685546875",
         "188.2026485003351",
         "182.29052341655495",
         "185.24658595844502",
         "21791825"
        ],
        [
         "18",
         "2020-01-27 00:00:00",
         "179.5315399169922",
         "184.16270184814624",
         "178.20132071124516",
         "182.98027976460028",
         "30132428"
        ],
        [
         "19",
         "2020-01-28 00:00:00",
         "173.5208740234375",
         "181.60077514855223",
         "172.33843700023573",
         "181.2066244623812",
         "38283588"
        ],
        [
         "20",
         "2020-01-29 00:00:00",
         "185.2958526611328",
         "186.1333946753407",
         "175.93498814789874",
         "176.18132668772068",
         "61585660"
        ],
        [
         "21",
         "2020-01-30 00:00:00",
         "183.47296142578125",
         "189.729967032541",
         "181.5515236130584",
         "188.15339419192523",
         "70900581"
        ],
        [
         "22",
         "2020-01-31 00:00:00",
         "174.0135498046875",
         "185.59146112710604",
         "173.37306058268612",
         "183.57148210208993",
         "75621897"
        ],
        [
         "23",
         "2020-02-03 00:00:00",
         "161.45028686523438",
         "165.8351099172959",
         "157.2132609246367",
         "161.10540689140342",
         "66616190"
        ],
        [
         "24",
         "2020-02-04 00:00:00",
         "163.273193359375",
         "166.1307296555333",
         "158.83909931200645",
         "164.11075047133625",
         "49034642"
        ],
        [
         "25",
         "2020-02-05 00:00:00",
         "181.058837890625",
         "182.24125994733808",
         "164.1600190349582",
         "164.94829038255878",
         "92982265"
        ],
        [
         "26",
         "2020-02-06 00:00:00",
         "176.23060607910156",
         "180.7139556963406",
         "173.17600202079768",
         "179.3344658195458",
         "61821140"
        ],
        [
         "27",
         "2020-02-07 00:00:00",
         "171.0574951171875",
         "175.54084469849406",
         "170.46627658312127",
         "174.80182904856724",
         "45195760"
        ],
        [
         "28",
         "2020-02-10 00:00:00",
         "166.4263153076172",
         "170.66334129681977",
         "165.53950255803807",
         "170.66334129681977",
         "33279372"
        ],
        [
         "29",
         "2020-02-11 00:00:00",
         "167.2638702392578",
         "172.5847767393718",
         "165.9336360965736",
         "169.3331200089196",
         "42868276"
        ],
        [
         "30",
         "2020-02-12 00:00:00",
         "168.44630432128906",
         "170.7618927994189",
         "166.52486656034756",
         "170.46628352035577",
         "34621395"
        ],
        [
         "31",
         "2020-02-13 00:00:00",
         "167.01754760742188",
         "169.8258132715833",
         "165.63805765310815",
         "168.8404590084127",
         "25049848"
        ],
        [
         "32",
         "2020-02-14 00:00:00",
         "166.6234130859375",
         "173.61941938237166",
         "165.83512666280484",
         "169.48093445506635",
         "56676430"
        ],
        [
         "33",
         "2020-02-17 00:00:00",
         "166.6234130859375",
         "168.84046019363458",
         "163.9136888431966",
         "167.904361608801",
         "32893274"
        ],
        [
         "34",
         "2020-02-18 00:00:00",
         "159.23326110839844",
         "165.5395226227591",
         "156.27719820442059",
         "165.5395226227591",
         "52744122"
        ],
        [
         "35",
         "2020-02-19 00:00:00",
         "155.7352294921875",
         "162.18930230929453",
         "150.80845864482512",
         "160.4649325127177",
         "78914233"
        ],
        [
         "36",
         "2020-02-20 00:00:00",
         "156.17864990234375",
         "159.92299909003032",
         "153.71526425719637",
         "155.63670205334876",
         "54328194"
        ],
        [
         "37",
         "2020-02-24 00:00:00",
         "148.443603515625",
         "153.616713041222",
         "147.40899363875505",
         "151.74454608417827",
         "39706007"
        ],
        [
         "38",
         "2020-02-25 00:00:00",
         "147.70458984375",
         "151.15332957358697",
         "145.29047503992652",
         "149.97090753041957",
         "52719851"
        ],
        [
         "39",
         "2020-02-26 00:00:00",
         "142.43295288085938",
         "145.7338804357858",
         "141.5953957951834",
         "144.74852623396086",
         "47605927"
        ],
        [
         "40",
         "2020-02-27 00:00:00",
         "143.12269592285156",
         "144.60072720604796",
         "139.0334820534662",
         "142.03880030104952",
         "51328153"
        ],
        [
         "41",
         "2020-02-28 00:00:00",
         "127.06141662597656",
         "137.55544750906228",
         "125.18924972577173",
         "136.8164318849849",
         "94469619"
        ],
        [
         "42",
         "2020-03-02 00:00:00",
         "123.56341552734375",
         "131.93891852964336",
         "121.98685034476566",
         "131.05210578283155",
         "111585697"
        ],
        [
         "43",
         "2020-03-03 00:00:00",
         "128.44091796875",
         "129.4755277859355",
         "123.4156058482306",
         "125.63265265987546",
         "86765576"
        ],
        [
         "44",
         "2020-03-04 00:00:00",
         "124.35169982910156",
         "127.70191320562137",
         "118.78445448804162",
         "127.70191320562137",
         "97546902"
        ],
        [
         "45",
         "2020-03-05 00:00:00",
         "123.90828704833984",
         "127.2584852168344",
         "122.430255791302",
         "125.68192756384757",
         "87795649"
        ],
        [
         "46",
         "2020-03-06 00:00:00",
         "112.52745056152344",
         "115.58205470229127",
         "111.14796064748711",
         "113.31573695610666",
         "83971462"
        ],
        [
         "47",
         "2020-03-09 00:00:00",
         "104.15193939208984",
         "108.24116096143455",
         "102.72317876169943",
         "107.40361136714857",
         "81549809"
        ],
        [
         "48",
         "2020-03-11 00:00:00",
         "97.45153045654297",
         "104.94022076335446",
         "96.36764235594559",
         "103.31438485363049",
         "111146790"
        ],
        [
         "49",
         "2020-03-12 00:00:00",
         "86.71116638183594",
         "93.51011161303376",
         "82.86828364092798",
         "89.76576278493766",
         "143550830"
        ]
       ],
       "shape": {
        "columns": 6,
        "rows": 1237
       }
      },
      "text/html": [
       "<div>\n",
       "<style scoped>\n",
       "    .dataframe tbody tr th:only-of-type {\n",
       "        vertical-align: middle;\n",
       "    }\n",
       "\n",
       "    .dataframe tbody tr th {\n",
       "        vertical-align: top;\n",
       "    }\n",
       "\n",
       "    .dataframe thead tr th {\n",
       "        text-align: left;\n",
       "    }\n",
       "</style>\n",
       "<table border=\"1\" class=\"dataframe\">\n",
       "  <thead>\n",
       "    <tr>\n",
       "      <th>Price</th>\n",
       "      <th>Date</th>\n",
       "      <th>Close</th>\n",
       "      <th>High</th>\n",
       "      <th>Low</th>\n",
       "      <th>Open</th>\n",
       "      <th>Volume</th>\n",
       "    </tr>\n",
       "    <tr>\n",
       "      <th>Ticker</th>\n",
       "      <th></th>\n",
       "      <th>TATAMOTORS.NS</th>\n",
       "      <th>TATAMOTORS.NS</th>\n",
       "      <th>TATAMOTORS.NS</th>\n",
       "      <th>TATAMOTORS.NS</th>\n",
       "      <th>TATAMOTORS.NS</th>\n",
       "    </tr>\n",
       "  </thead>\n",
       "  <tbody>\n",
       "    <tr>\n",
       "      <th>0</th>\n",
       "      <td>2020-01-01</td>\n",
       "      <td>181.748581</td>\n",
       "      <td>183.965628</td>\n",
       "      <td>180.911039</td>\n",
       "      <td>182.438326</td>\n",
       "      <td>25968357</td>\n",
       "    </tr>\n",
       "    <tr>\n",
       "      <th>1</th>\n",
       "      <td>2020-01-02</td>\n",
       "      <td>190.912384</td>\n",
       "      <td>191.848468</td>\n",
       "      <td>181.896399</td>\n",
       "      <td>182.290534</td>\n",
       "      <td>57289863</td>\n",
       "    </tr>\n",
       "    <tr>\n",
       "      <th>2</th>\n",
       "      <td>2020-01-03</td>\n",
       "      <td>188.301193</td>\n",
       "      <td>192.784543</td>\n",
       "      <td>186.478282</td>\n",
       "      <td>190.074819</td>\n",
       "      <td>47572728</td>\n",
       "    </tr>\n",
       "    <tr>\n",
       "      <th>3</th>\n",
       "      <td>2020-01-06</td>\n",
       "      <td>182.931000</td>\n",
       "      <td>188.202651</td>\n",
       "      <td>182.339796</td>\n",
       "      <td>188.202651</td>\n",
       "      <td>28621212</td>\n",
       "    </tr>\n",
       "    <tr>\n",
       "      <th>4</th>\n",
       "      <td>2020-01-07</td>\n",
       "      <td>181.994904</td>\n",
       "      <td>186.626065</td>\n",
       "      <td>179.630060</td>\n",
       "      <td>184.261221</td>\n",
       "      <td>34995035</td>\n",
       "    </tr>\n",
       "    <tr>\n",
       "      <th>...</th>\n",
       "      <td>...</td>\n",
       "      <td>...</td>\n",
       "      <td>...</td>\n",
       "      <td>...</td>\n",
       "      <td>...</td>\n",
       "      <td>...</td>\n",
       "    </tr>\n",
       "    <tr>\n",
       "      <th>1232</th>\n",
       "      <td>2024-12-23</td>\n",
       "      <td>716.043579</td>\n",
       "      <td>728.139592</td>\n",
       "      <td>711.581940</td>\n",
       "      <td>727.445547</td>\n",
       "      <td>9653868</td>\n",
       "    </tr>\n",
       "    <tr>\n",
       "      <th>1233</th>\n",
       "      <td>2024-12-24</td>\n",
       "      <td>729.825073</td>\n",
       "      <td>738.946660</td>\n",
       "      <td>716.341031</td>\n",
       "      <td>717.332506</td>\n",
       "      <td>12553555</td>\n",
       "    </tr>\n",
       "    <tr>\n",
       "      <th>1234</th>\n",
       "      <td>2024-12-26</td>\n",
       "      <td>734.484985</td>\n",
       "      <td>741.425313</td>\n",
       "      <td>729.279739</td>\n",
       "      <td>729.825039</td>\n",
       "      <td>9343210</td>\n",
       "    </tr>\n",
       "    <tr>\n",
       "      <th>1235</th>\n",
       "      <td>2024-12-27</td>\n",
       "      <td>744.102356</td>\n",
       "      <td>760.312956</td>\n",
       "      <td>739.343286</td>\n",
       "      <td>742.615143</td>\n",
       "      <td>15835079</td>\n",
       "    </tr>\n",
       "    <tr>\n",
       "      <th>1236</th>\n",
       "      <td>2024-12-30</td>\n",
       "      <td>727.395996</td>\n",
       "      <td>748.464850</td>\n",
       "      <td>724.471131</td>\n",
       "      <td>747.473374</td>\n",
       "      <td>17441198</td>\n",
       "    </tr>\n",
       "  </tbody>\n",
       "</table>\n",
       "<p>1237 rows × 6 columns</p>\n",
       "</div>"
      ],
      "text/plain": [
       "Price        Date         Close          High           Low          Open  \\\n",
       "Ticker            TATAMOTORS.NS TATAMOTORS.NS TATAMOTORS.NS TATAMOTORS.NS   \n",
       "0      2020-01-01    181.748581    183.965628    180.911039    182.438326   \n",
       "1      2020-01-02    190.912384    191.848468    181.896399    182.290534   \n",
       "2      2020-01-03    188.301193    192.784543    186.478282    190.074819   \n",
       "3      2020-01-06    182.931000    188.202651    182.339796    188.202651   \n",
       "4      2020-01-07    181.994904    186.626065    179.630060    184.261221   \n",
       "...           ...           ...           ...           ...           ...   \n",
       "1232   2024-12-23    716.043579    728.139592    711.581940    727.445547   \n",
       "1233   2024-12-24    729.825073    738.946660    716.341031    717.332506   \n",
       "1234   2024-12-26    734.484985    741.425313    729.279739    729.825039   \n",
       "1235   2024-12-27    744.102356    760.312956    739.343286    742.615143   \n",
       "1236   2024-12-30    727.395996    748.464850    724.471131    747.473374   \n",
       "\n",
       "Price         Volume  \n",
       "Ticker TATAMOTORS.NS  \n",
       "0           25968357  \n",
       "1           57289863  \n",
       "2           47572728  \n",
       "3           28621212  \n",
       "4           34995035  \n",
       "...              ...  \n",
       "1232         9653868  \n",
       "1233        12553555  \n",
       "1234         9343210  \n",
       "1235        15835079  \n",
       "1236        17441198  \n",
       "\n",
       "[1237 rows x 6 columns]"
      ]
     },
     "execution_count": 5,
     "metadata": {},
     "output_type": "execute_result"
    }
   ],
   "source": [
    "data"
   ]
  },
  {
   "cell_type": "code",
   "execution_count": 6,
   "id": "ce334fe6",
   "metadata": {},
   "outputs": [],
   "source": [
    "moving_avg_100_days = data.Close.rolling(100).mean()"
   ]
  },
  {
   "cell_type": "code",
   "execution_count": 7,
   "id": "5f45c4b6",
   "metadata": {},
   "outputs": [
    {
     "data": {
      "image/png": "[encoded data removed]",
      "text/plain": [
       "<Figure size 1000x600 with 1 Axes>"
      ]
     },
     "metadata": {},
     "output_type": "display_data"
    }
   ],
   "source": [
    "plt.figure(figsize=(10, 6))\n",
    "plt.title(\"Moving average of last 100 Days\")\n",
    "plt.plot(data.Close,'b', label='Stock Price')\n",
    "plt.plot(moving_avg_100_days,'r', label='100-Day Moving Avergae')\n",
    "plt.legend()\n",
    "plt.show()"
   ]
  },
  {
   "cell_type": "code",
   "execution_count": 8,
   "id": "d08743b7",
   "metadata": {},
   "outputs": [],
   "source": [
    "moving_avg_200_days = data.Close.rolling(200).mean()\n"
   ]
  },
  {
   "cell_type": "code",
   "execution_count": 9,
   "id": "a1e576d5",
   "metadata": {},
   "outputs": [
    {
     "data": {
      "image/png": "[encoded data removed]",
      "text/plain": [
       "<Figure size 1000x600 with 1 Axes>"
      ]
     },
     "metadata": {},
     "output_type": "display_data"
    }
   ],
   "source": [
    "plt.figure(figsize=(10, 6))\n",
    "plt.title(\"Moving average of last 100-200 Days\")\n",
    "plt.plot(data.Close,'b', label='Stock Price')\n",
    "plt.plot(moving_avg_100_days,'black', label='100-Day Moving Avergae')\n",
    "plt.plot(moving_avg_200_days,'r', label='200-Day Moving Avergae')\n",
    "plt.legend()\n",
    "plt.show()"
   ]
  },
  {
   "cell_type": "code",
   "execution_count": 10,
   "id": "18374452",
   "metadata": {},
   "outputs": [],
   "source": [
    "data.dropna(inplace=True)"
   ]
  },
  {
   "cell_type": "code",
   "execution_count": 11,
   "id": "7984db02",
   "metadata": {},
   "outputs": [],
   "source": [
    "data_train = pd.DataFrame(data.Close[0:int(len(data)*0.80)])\n",
    "data_test = pd.DataFrame(data.Close[int(len(data)*0.80):len(data)])"
   ]
  },
  {
   "cell_type": "code",
   "execution_count": 12,
   "id": "e71b7b10",
   "metadata": {},
   "outputs": [
    {
     "data": {
      "text/plain": [
       "989"
      ]
     },
     "execution_count": 12,
     "metadata": {},
     "output_type": "execute_result"
    }
   ],
   "source": [
    "data_train.shape[0]"
   ]
  },
  {
   "cell_type": "code",
   "execution_count": 13,
   "id": "b7869c9d",
   "metadata": {},
   "outputs": [
    {
     "data": {
      "text/plain": [
       "248"
      ]
     },
     "execution_count": 13,
     "metadata": {},
     "output_type": "execute_result"
    }
   ],
   "source": [
    "data_test.shape[0]"
   ]
  },
  {
   "cell_type": "code",
   "execution_count": 15,
   "id": "37719f39",
   "metadata": {},
   "outputs": [],
   "source": [
    "from sklearn.preprocessing import MinMaxScaler\n",
    "scaler = MinMaxScaler(feature_range=(0,1))\n",
    "data_train_scale = scaler.fit_transform(data_train)"
   ]
  },
  {
   "cell_type": "code",
   "execution_count": 16,
   "id": "9eb877a8",
   "metadata": {},
   "outputs": [],
   "source": [
    "x=[]\n",
    "y=[]\n",
    "for i in range(100,data_train_scale.shape[0]):\n",
    "    x.append(data_train_scale[i-100:i])\n",
    "    y.append(data_train_scale[i,0])"
   ]
  },
  {
   "cell_type": "code",
   "execution_count": 17,
   "id": "96ca4b57",
   "metadata": {},
   "outputs": [],
   "source": [
    "from keras.layers import Dense, Dropout,LSTM\n",
    "from keras.models import Sequential"
   ]
  },
  {
   "cell_type": "code",
   "execution_count": 18,
   "id": "22de4df4",
   "metadata": {},
   "outputs": [],
   "source": [
    "x,y = np.array(x),np.array(y)"
   ]
  },
  {
   "cell_type": "code",
   "execution_count": 19,
   "id": "f175bb7f",
   "metadata": {},
   "outputs": [
    {
     "name": "stderr",
     "output_type": "stream",
     "text": [
      "C:\\Users\\kusar\\AppData\\Roaming\\Python\\Python310\\site-packages\\keras\\src\\layers\\rnn\\rnn.py:199: UserWarning: Do not pass an `input_shape`/`input_dim` argument to a layer. When using Sequential models, prefer using an `Input(shape)` object as the first layer in the model instead.\n",
      "  super().__init__(**kwargs)\n"
     ]
    }
   ],
   "source": [
    "model = Sequential()\n",
    "model.add(LSTM(units=50,activation='relu',return_sequences=True,\n",
    "               input_shape = ((x.shape[1],1))))\n",
    "model.add(Dropout(0.2))\n",
    "\n",
    "model.add(LSTM(units=60,activation='relu',return_sequences=True))\n",
    "model.add(Dropout(0.3))\n",
    "\n",
    "model.add(LSTM(units=80,activation='relu',return_sequences=True))\n",
    "model.add(Dropout(0.4))\n",
    "\n",
    "model.add(LSTM(units=120,activation='relu'))\n",
    "model.add(Dropout(0.5))\n",
    "\n",
    "model.add(Dense(units=1))"
   ]
  },
  {
   "cell_type": "code",
   "execution_count": 20,
   "id": "a9a67f51",
   "metadata": {},
   "outputs": [],
   "source": [
    "model.compile(optimizer ='adam', loss = 'mean_squared_error')"
   ]
  },
  {
   "cell_type": "code",
   "execution_count": 21,
   "id": "baed6a76",
   "metadata": {},
   "outputs": [
    {
     "name": "stdout",
     "output_type": "stream",
     "text": [
      "Epoch 1/20\n",
      "\u001b[1m28/28\u001b[0m \u001b[32m━━━━━━━━━━━━━━━━━━━━\u001b[0m\u001b[37m\u001b[0m \u001b[1m6s\u001b[0m 88ms/step - loss: 0.1691\n",
      "Epoch 2/20\n",
      "\u001b[1m28/28\u001b[0m \u001b[32m━━━━━━━━━━━━━━━━━━━━\u001b[0m\u001b[37m\u001b[0m \u001b[1m3s\u001b[0m 92ms/step - loss: 0.0204\n",
      "Epoch 3/20\n",
      "\u001b[1m28/28\u001b[0m \u001b[32m━━━━━━━━━━━━━━━━━━━━\u001b[0m\u001b[37m\u001b[0m \u001b[1m2s\u001b[0m 79ms/step - loss: 0.0146\n",
      "Epoch 4/20\n",
      "\u001b[1m28/28\u001b[0m \u001b[32m━━━━━━━━━━━━━━━━━━━━\u001b[0m\u001b[37m\u001b[0m \u001b[1m2s\u001b[0m 79ms/step - loss: 0.0105\n",
      "Epoch 5/20\n",
      "\u001b[1m28/28\u001b[0m \u001b[32m━━━━━━━━━━━━━━━━━━━━\u001b[0m\u001b[37m\u001b[0m \u001b[1m2s\u001b[0m 79ms/step - loss: 0.0094\n",
      "Epoch 6/20\n",
      "\u001b[1m28/28\u001b[0m \u001b[32m━━━━━━━━━━━━━━━━━━━━\u001b[0m\u001b[37m\u001b[0m \u001b[1m2s\u001b[0m 81ms/step - loss: 0.0091\n",
      "Epoch 7/20\n",
      "\u001b[1m28/28\u001b[0m \u001b[32m━━━━━━━━━━━━━━━━━━━━\u001b[0m\u001b[37m\u001b[0m \u001b[1m2s\u001b[0m 81ms/step - loss: 0.0099\n",
      "Epoch 8/20\n",
      "\u001b[1m28/28\u001b[0m \u001b[32m━━━━━━━━━━━━━━━━━━━━\u001b[0m\u001b[37m\u001b[0m \u001b[1m2s\u001b[0m 78ms/step - loss: 0.0094\n",
      "Epoch 9/20\n",
      "\u001b[1m28/28\u001b[0m \u001b[32m━━━━━━━━━━━━━━━━━━━━\u001b[0m\u001b[37m\u001b[0m \u001b[1m2s\u001b[0m 79ms/step - loss: 0.0072\n",
      "Epoch 10/20\n",
      "\u001b[1m28/28\u001b[0m \u001b[32m━━━━━━━━━━━━━━━━━━━━\u001b[0m\u001b[37m\u001b[0m \u001b[1m2s\u001b[0m 81ms/step - loss: 0.0076\n",
      "Epoch 11/20\n",
      "\u001b[1m28/28\u001b[0m \u001b[32m━━━━━━━━━━━━━━━━━━━━\u001b[0m\u001b[37m\u001b[0m \u001b[1m2s\u001b[0m 80ms/step - loss: 0.0079\n",
      "Epoch 12/20\n",
      "\u001b[1m28/28\u001b[0m \u001b[32m━━━━━━━━━━━━━━━━━━━━\u001b[0m\u001b[37m\u001b[0m \u001b[1m2s\u001b[0m 79ms/step - loss: 0.0086\n",
      "Epoch 13/20\n",
      "\u001b[1m28/28\u001b[0m \u001b[32m━━━━━━━━━━━━━━━━━━━━\u001b[0m\u001b[37m\u001b[0m \u001b[1m2s\u001b[0m 79ms/step - loss: 0.0079\n",
      "Epoch 14/20\n",
      "\u001b[1m28/28\u001b[0m \u001b[32m━━━━━━━━━━━━━━━━━━━━\u001b[0m\u001b[37m\u001b[0m \u001b[1m2s\u001b[0m 84ms/step - loss: 0.0069\n",
      "Epoch 15/20\n",
      "\u001b[1m28/28\u001b[0m \u001b[32m━━━━━━━━━━━━━━━━━━━━\u001b[0m\u001b[37m\u001b[0m \u001b[1m3s\u001b[0m 93ms/step - loss: 0.0076\n",
      "Epoch 16/20\n",
      "\u001b[1m28/28\u001b[0m \u001b[32m━━━━━━━━━━━━━━━━━━━━\u001b[0m\u001b[37m\u001b[0m \u001b[1m2s\u001b[0m 86ms/step - loss: 0.0066\n",
      "Epoch 17/20\n",
      "\u001b[1m28/28\u001b[0m \u001b[32m━━━━━━━━━━━━━━━━━━━━\u001b[0m\u001b[37m\u001b[0m \u001b[1m3s\u001b[0m 89ms/step - loss: 0.0074\n",
      "Epoch 18/20\n",
      "\u001b[1m28/28\u001b[0m \u001b[32m━━━━━━━━━━━━━━━━━━━━\u001b[0m\u001b[37m\u001b[0m \u001b[1m2s\u001b[0m 82ms/step - loss: 0.0061\n",
      "Epoch 19/20\n",
      "\u001b[1m28/28\u001b[0m \u001b[32m━━━━━━━━━━━━━━━━━━━━\u001b[0m\u001b[37m\u001b[0m \u001b[1m2s\u001b[0m 79ms/step - loss: 0.0064\n",
      "Epoch 20/20\n",
      "\u001b[1m28/28\u001b[0m \u001b[32m━━━━━━━━━━━━━━━━━━━━\u001b[0m\u001b[37m\u001b[0m \u001b[1m2s\u001b[0m 81ms/step - loss: 0.0073\n"
     ]
    },
    {
     "data": {
      "text/plain": [
       "<keras.src.callbacks.history.History at 0x1d5b7c00a30>"
      ]
     },
     "execution_count": 21,
     "metadata": {},
     "output_type": "execute_result"
    }
   ],
   "source": [
    "model.fit(x,y,epochs = 20,batch_size=32,verbose=1)"
   ]
  },
  {
   "cell_type": "code",
   "execution_count": 22,
   "id": "71d2a9ac",
   "metadata": {},
   "outputs": [
    {
     "data": {
      "text/html": [
       "<pre style=\"white-space:pre;overflow-x:auto;line-height:normal;font-family:Menlo,'DejaVu Sans Mono',consolas,'Courier New',monospace\"><span style=\"font-weight: bold\">Model: \"sequential\"</span>\n",
       "</pre>\n"
      ],
      "text/plain": [
       "\u001b[1mModel: \"sequential\"\u001b[0m\n"
      ]
     },
     "metadata": {},
     "output_type": "display_data"
    },
    {
     "data": {
      "text/html": [
       "<pre style=\"white-space:pre;overflow-x:auto;line-height:normal;font-family:Menlo,'DejaVu Sans Mono',consolas,'Courier New',monospace\">┏━━━━━━━━━━━━━━━━━━━━━━━━━━━━━━━━━┳━━━━━━━━━━━━━━━━━━━━━━━━┳━━━━━━━━━━━━━━━┓\n",
       "┃<span style=\"font-weight: bold\"> Layer (type)                    </span>┃<span style=\"font-weight: bold\"> Output Shape           </span>┃<span style=\"font-weight: bold\">       Param # </span>┃\n",
       "┡━━━━━━━━━━━━━━━━━━━━━━━━━━━━━━━━━╇━━━━━━━━━━━━━━━━━━━━━━━━╇━━━━━━━━━━━━━━━┩\n",
       "│ lstm (<span style=\"color: #0087ff; text-decoration-color: #0087ff\">LSTM</span>)                     │ (<span style=\"color: #00d7ff; text-decoration-color: #00d7ff\">None</span>, <span style=\"color: #00af00; text-decoration-color: #00af00\">100</span>, <span style=\"color: #00af00; text-decoration-color: #00af00\">50</span>)        │        <span style=\"color: #00af00; text-decoration-color: #00af00\">10,400</span> │\n",
       "├─────────────────────────────────┼────────────────────────┼───────────────┤\n",
       "│ dropout (<span style=\"color: #0087ff; text-decoration-color: #0087ff\">Dropout</span>)               │ (<span style=\"color: #00d7ff; text-decoration-color: #00d7ff\">None</span>, <span style=\"color: #00af00; text-decoration-color: #00af00\">100</span>, <span style=\"color: #00af00; text-decoration-color: #00af00\">50</span>)        │             <span style=\"color: #00af00; text-decoration-color: #00af00\">0</span> │\n",
       "├─────────────────────────────────┼────────────────────────┼───────────────┤\n",
       "│ lstm_1 (<span style=\"color: #0087ff; text-decoration-color: #0087ff\">LSTM</span>)                   │ (<span style=\"color: #00d7ff; text-decoration-color: #00d7ff\">None</span>, <span style=\"color: #00af00; text-decoration-color: #00af00\">100</span>, <span style=\"color: #00af00; text-decoration-color: #00af00\">60</span>)        │        <span style=\"color: #00af00; text-decoration-color: #00af00\">26,640</span> │\n",
       "├─────────────────────────────────┼────────────────────────┼───────────────┤\n",
       "│ dropout_1 (<span style=\"color: #0087ff; text-decoration-color: #0087ff\">Dropout</span>)             │ (<span style=\"color: #00d7ff; text-decoration-color: #00d7ff\">None</span>, <span style=\"color: #00af00; text-decoration-color: #00af00\">100</span>, <span style=\"color: #00af00; text-decoration-color: #00af00\">60</span>)        │             <span style=\"color: #00af00; text-decoration-color: #00af00\">0</span> │\n",
       "├─────────────────────────────────┼────────────────────────┼───────────────┤\n",
       "│ lstm_2 (<span style=\"color: #0087ff; text-decoration-color: #0087ff\">LSTM</span>)                   │ (<span style=\"color: #00d7ff; text-decoration-color: #00d7ff\">None</span>, <span style=\"color: #00af00; text-decoration-color: #00af00\">100</span>, <span style=\"color: #00af00; text-decoration-color: #00af00\">80</span>)        │        <span style=\"color: #00af00; text-decoration-color: #00af00\">45,120</span> │\n",
       "├─────────────────────────────────┼────────────────────────┼───────────────┤\n",
       "│ dropout_2 (<span style=\"color: #0087ff; text-decoration-color: #0087ff\">Dropout</span>)             │ (<span style=\"color: #00d7ff; text-decoration-color: #00d7ff\">None</span>, <span style=\"color: #00af00; text-decoration-color: #00af00\">100</span>, <span style=\"color: #00af00; text-decoration-color: #00af00\">80</span>)        │             <span style=\"color: #00af00; text-decoration-color: #00af00\">0</span> │\n",
       "├─────────────────────────────────┼────────────────────────┼───────────────┤\n",
       "│ lstm_3 (<span style=\"color: #0087ff; text-decoration-color: #0087ff\">LSTM</span>)                   │ (<span style=\"color: #00d7ff; text-decoration-color: #00d7ff\">None</span>, <span style=\"color: #00af00; text-decoration-color: #00af00\">120</span>)            │        <span style=\"color: #00af00; text-decoration-color: #00af00\">96,480</span> │\n",
       "├─────────────────────────────────┼────────────────────────┼───────────────┤\n",
       "│ dropout_3 (<span style=\"color: #0087ff; text-decoration-color: #0087ff\">Dropout</span>)             │ (<span style=\"color: #00d7ff; text-decoration-color: #00d7ff\">None</span>, <span style=\"color: #00af00; text-decoration-color: #00af00\">120</span>)            │             <span style=\"color: #00af00; text-decoration-color: #00af00\">0</span> │\n",
       "├─────────────────────────────────┼────────────────────────┼───────────────┤\n",
       "│ dense (<span style=\"color: #0087ff; text-decoration-color: #0087ff\">Dense</span>)                   │ (<span style=\"color: #00d7ff; text-decoration-color: #00d7ff\">None</span>, <span style=\"color: #00af00; text-decoration-color: #00af00\">1</span>)              │           <span style=\"color: #00af00; text-decoration-color: #00af00\">121</span> │\n",
       "└─────────────────────────────────┴────────────────────────┴───────────────┘\n",
       "</pre>\n"
      ],
      "text/plain": [
       "┏━━━━━━━━━━━━━━━━━━━━━━━━━━━━━━━━━┳━━━━━━━━━━━━━━━━━━━━━━━━┳━━━━━━━━━━━━━━━┓\n",
       "┃\u001b[1m \u001b[0m\u001b[1mLayer (type)                   \u001b[0m\u001b[1m \u001b[0m┃\u001b[1m \u001b[0m\u001b[1mOutput Shape          \u001b[0m\u001b[1m \u001b[0m┃\u001b[1m \u001b[0m\u001b[1m      Param #\u001b[0m\u001b[1m \u001b[0m┃\n",
       "┡━━━━━━━━━━━━━━━━━━━━━━━━━━━━━━━━━╇━━━━━━━━━━━━━━━━━━━━━━━━╇━━━━━━━━━━━━━━━┩\n",
       "│ lstm (\u001b[38;5;33mLSTM\u001b[0m)                     │ (\u001b[38;5;45mNone\u001b[0m, \u001b[38;5;34m100\u001b[0m, \u001b[38;5;34m50\u001b[0m)        │        \u001b[38;5;34m10,400\u001b[0m │\n",
       "├─────────────────────────────────┼────────────────────────┼───────────────┤\n",
       "│ dropout (\u001b[38;5;33mDropout\u001b[0m)               │ (\u001b[38;5;45mNone\u001b[0m, \u001b[38;5;34m100\u001b[0m, \u001b[38;5;34m50\u001b[0m)        │             \u001b[38;5;34m0\u001b[0m │\n",
       "├─────────────────────────────────┼────────────────────────┼───────────────┤\n",
       "│ lstm_1 (\u001b[38;5;33mLSTM\u001b[0m)                   │ (\u001b[38;5;45mNone\u001b[0m, \u001b[38;5;34m100\u001b[0m, \u001b[38;5;34m60\u001b[0m)        │        \u001b[38;5;34m26,640\u001b[0m │\n",
       "├─────────────────────────────────┼────────────────────────┼───────────────┤\n",
       "│ dropout_1 (\u001b[38;5;33mDropout\u001b[0m)             │ (\u001b[38;5;45mNone\u001b[0m, \u001b[38;5;34m100\u001b[0m, \u001b[38;5;34m60\u001b[0m)        │             \u001b[38;5;34m0\u001b[0m │\n",
       "├─────────────────────────────────┼────────────────────────┼───────────────┤\n",
       "│ lstm_2 (\u001b[38;5;33mLSTM\u001b[0m)                   │ (\u001b[38;5;45mNone\u001b[0m, \u001b[38;5;34m100\u001b[0m, \u001b[38;5;34m80\u001b[0m)        │        \u001b[38;5;34m45,120\u001b[0m │\n",
       "├─────────────────────────────────┼────────────────────────┼───────────────┤\n",
       "│ dropout_2 (\u001b[38;5;33mDropout\u001b[0m)             │ (\u001b[38;5;45mNone\u001b[0m, \u001b[38;5;34m100\u001b[0m, \u001b[38;5;34m80\u001b[0m)        │             \u001b[38;5;34m0\u001b[0m │\n",
       "├─────────────────────────────────┼────────────────────────┼───────────────┤\n",
       "│ lstm_3 (\u001b[38;5;33mLSTM\u001b[0m)                   │ (\u001b[38;5;45mNone\u001b[0m, \u001b[38;5;34m120\u001b[0m)            │        \u001b[38;5;34m96,480\u001b[0m │\n",
       "├─────────────────────────────────┼────────────────────────┼───────────────┤\n",
       "│ dropout_3 (\u001b[38;5;33mDropout\u001b[0m)             │ (\u001b[38;5;45mNone\u001b[0m, \u001b[38;5;34m120\u001b[0m)            │             \u001b[38;5;34m0\u001b[0m │\n",
       "├─────────────────────────────────┼────────────────────────┼───────────────┤\n",
       "│ dense (\u001b[38;5;33mDense\u001b[0m)                   │ (\u001b[38;5;45mNone\u001b[0m, \u001b[38;5;34m1\u001b[0m)              │           \u001b[38;5;34m121\u001b[0m │\n",
       "└─────────────────────────────────┴────────────────────────┴───────────────┘\n"
      ]
     },
     "metadata": {},
     "output_type": "display_data"
    },
    {
     "data": {
      "text/html": [
       "<pre style=\"white-space:pre;overflow-x:auto;line-height:normal;font-family:Menlo,'DejaVu Sans Mono',consolas,'Courier New',monospace\"><span style=\"font-weight: bold\"> Total params: </span><span style=\"color: #00af00; text-decoration-color: #00af00\">536,285</span> (2.05 MB)\n",
       "</pre>\n"
      ],
      "text/plain": [
       "\u001b[1m Total params: \u001b[0m\u001b[38;5;34m536,285\u001b[0m (2.05 MB)\n"
      ]
     },
     "metadata": {},
     "output_type": "display_data"
    },
    {
     "data": {
      "text/html": [
       "<pre style=\"white-space:pre;overflow-x:auto;line-height:normal;font-family:Menlo,'DejaVu Sans Mono',consolas,'Courier New',monospace\"><span style=\"font-weight: bold\"> Trainable params: </span><span style=\"color: #00af00; text-decoration-color: #00af00\">178,761</span> (698.29 KB)\n",
       "</pre>\n"
      ],
      "text/plain": [
       "\u001b[1m Trainable params: \u001b[0m\u001b[38;5;34m178,761\u001b[0m (698.29 KB)\n"
      ]
     },
     "metadata": {},
     "output_type": "display_data"
    },
    {
     "data": {
      "text/html": [
       "<pre style=\"white-space:pre;overflow-x:auto;line-height:normal;font-family:Menlo,'DejaVu Sans Mono',consolas,'Courier New',monospace\"><span style=\"font-weight: bold\"> Non-trainable params: </span><span style=\"color: #00af00; text-decoration-color: #00af00\">0</span> (0.00 B)\n",
       "</pre>\n"
      ],
      "text/plain": [
       "\u001b[1m Non-trainable params: \u001b[0m\u001b[38;5;34m0\u001b[0m (0.00 B)\n"
      ]
     },
     "metadata": {},
     "output_type": "display_data"
    },
    {
     "data": {
      "text/html": [
       "<pre style=\"white-space:pre;overflow-x:auto;line-height:normal;font-family:Menlo,'DejaVu Sans Mono',consolas,'Courier New',monospace\"><span style=\"font-weight: bold\"> Optimizer params: </span><span style=\"color: #00af00; text-decoration-color: #00af00\">357,524</span> (1.36 MB)\n",
       "</pre>\n"
      ],
      "text/plain": [
       "\u001b[1m Optimizer params: \u001b[0m\u001b[38;5;34m357,524\u001b[0m (1.36 MB)\n"
      ]
     },
     "metadata": {},
     "output_type": "display_data"
    }
   ],
   "source": [
    "model.summary()"
   ]
  },
  {
   "cell_type": "code",
   "execution_count": 23,
   "id": "b6012572",
   "metadata": {},
   "outputs": [],
   "source": [
    "past_100_days = data_train.tail(100)\n"
   ]
  },
  {
   "cell_type": "code",
   "execution_count": 24,
   "id": "27bf5670",
   "metadata": {},
   "outputs": [],
   "source": [
    "data_test = pd.concat([past_100_days,data_test],ignore_index=True)"
   ]
  },
  {
   "cell_type": "code",
   "execution_count": 25,
   "id": "c4b3550d",
   "metadata": {},
   "outputs": [],
   "source": [
    "data_test_scale = scaler.fit_transform(data_test)"
   ]
  },
  {
   "cell_type": "code",
   "execution_count": 26,
   "id": "84478506",
   "metadata": {},
   "outputs": [],
   "source": [
    "x=[]\n",
    "y=[]\n",
    "for i in range(100,data_test_scale.shape[0]):\n",
    "    x.append(data_test_scale[i-100:i])\n",
    "    y.append(data_test_scale[i,0])\n",
    "x,y = np.array(x), np.array(y)"
   ]
  },
  {
   "cell_type": "code",
   "execution_count": 27,
   "id": "3434b63b",
   "metadata": {},
   "outputs": [
    {
     "name": "stdout",
     "output_type": "stream",
     "text": [
      "\u001b[1m8/8\u001b[0m \u001b[32m━━━━━━━━━━━━━━━━━━━━\u001b[0m\u001b[37m\u001b[0m \u001b[1m1s\u001b[0m 77ms/step\n"
     ]
    }
   ],
   "source": [
    "y_predict = model.predict(x)"
   ]
  },
  {
   "cell_type": "code",
   "execution_count": 28,
   "id": "cb78ba15",
   "metadata": {},
   "outputs": [],
   "source": [
    "scale =1/scaler.scale_"
   ]
  },
  {
   "cell_type": "code",
   "execution_count": 29,
   "id": "b7190efc",
   "metadata": {},
   "outputs": [],
   "source": [
    "y_predict = y_predict*scale"
   ]
  },
  {
   "cell_type": "code",
   "execution_count": 30,
   "id": "f363353a",
   "metadata": {},
   "outputs": [],
   "source": [
    "y = y*scale"
   ]
  },
  {
   "cell_type": "code",
   "execution_count": 31,
   "id": "3513aad1",
   "metadata": {},
   "outputs": [
    {
     "data": {
      "image/png": "[encoded data removed]",
      "text/plain": [
       "<Figure size 1000x800 with 1 Axes>"
      ]
     },
     "metadata": {},
     "output_type": "display_data"
    }
   ],
   "source": [
    "plt.figure(figsize=(10,8))\n",
    "plt.plot(y_predict,'orange', label = 'Predicted Price')\n",
    "plt.plot(y,'purple',label= 'Original Price')\n",
    "plt.xlabel(\"Time\")\n",
    "plt.ylabel(\"Price\")\n",
    "plt.legend()\n",
    "plt.show()\n"
   ]
  },
  {
   "cell_type": "code",
   "execution_count": 32,
   "id": "5bb7ca4f",
   "metadata": {},
   "outputs": [],
   "source": [
    "model.save('Stock_Prediction_Model.keras')"
   ]
  },
  {
   "cell_type": "code",
   "execution_count": null,
   "id": "16f7615a",
   "metadata": {},
   "outputs": [],
   "source": []
  }
 ],
 "metadata": {
  "kernelspec": {
   "display_name": "Python 3",
   "language": "python",
   "name": "python3"
  },
  "language_info": {
   "codemirror_mode": {
    "name": "ipython",
    "version": 3
   },
   "file_extension": ".py",
   "mimetype": "text/x-python",
   "name": "python",
   "nbconvert_exporter": "python",
   "pygments_lexer": "ipython3",
   "version": "3.10.0"
  }
 },
 "nbformat": 4,
 "nbformat_minor": 5
}
